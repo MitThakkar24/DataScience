{
 "cells": [
  {
   "cell_type": "code",
   "execution_count": 1,
   "id": "1d239fa6",
   "metadata": {},
   "outputs": [],
   "source": [
    "import requests\n",
    "from bs4 import BeautifulSoup\n",
    "from urllib.request import urlopen as uReq\n",
    "import os"
   ]
  },
  {
   "cell_type": "code",
   "execution_count": 2,
   "id": "16da459c",
   "metadata": {},
   "outputs": [],
   "source": [
    "save_dir = 'images/'\n",
    "\n",
    "if not os.path.exists(save_dir):\n",
    "    os.makedirs(save_dir)"
   ]
  },
  {
   "cell_type": "code",
   "execution_count": 9,
   "id": "f5a765da",
   "metadata": {},
   "outputs": [],
   "source": [
    "query = 'TMR Github'\n",
    "response = requests.get(f\"https://www.google.com/search?q={query}&sca_esv=579577228&tbm=isch&sxsrf=AM9HkKnS3dXKP4105kw62OpHNbkuOJSp2w%3A1699176265378&source=hp&biw=1920&bih=931&ei=SV9HZYWPEvL21e8Pi8up8Ao&iflsig=AO6bgOgAAAAAZUdtWYj4-AEUf6rEbyTb_XWT-0ZtHluO&ved=0ahUKEwjF19DtxKyCAxVye_UHHYtlCq4Q4dUDCAc&uact=5&oq=mit+thakkar&gs_lp=EgNpbWciC21pdCB0aGFra2FyMgQQIxgnSIwiUJYFWL0hcAJ4AJABAJgBfqABiwqqAQQwLjExuAEDyAEA-AEBigILZ3dzLXdpei1pbWeoAgrCAgcQIxjqAhgnwgILEAAYgAQYsQMYgwHCAggQABiABBixA8ICBRAAGIAEwgIIEAAYsQMYgwHCAgYQABgFGB7CAgYQABgIGB7CAgcQABgYGIAE&sclient=img\")\n"
   ]
  },
  {
   "cell_type": "code",
   "execution_count": 10,
   "id": "c9846260",
   "metadata": {},
   "outputs": [
    {
     "data": {
      "text/plain": [
       "<Response [200]>"
      ]
     },
     "execution_count": 10,
     "metadata": {},
     "output_type": "execute_result"
    }
   ],
   "source": [
    "response"
   ]
  },
  {
   "cell_type": "code",
   "execution_count": 11,
   "id": "8a7a0171",
   "metadata": {},
   "outputs": [],
   "source": [
    "soup = BeautifulSoup(response.content,'html.parser')"
   ]
  },
  {
   "cell_type": "code",
   "execution_count": null,
   "id": "8344d849",
   "metadata": {},
   "outputs": [],
   "source": []
  },
  {
   "cell_type": "code",
   "execution_count": 12,
   "id": "1c1ac301",
   "metadata": {},
   "outputs": [],
   "source": [
    "images_tag = soup.find_all('img')"
   ]
  },
  {
   "cell_type": "code",
   "execution_count": 13,
   "id": "0c5fe786",
   "metadata": {},
   "outputs": [],
   "source": [
    "del images_tag[0]"
   ]
  },
  {
   "cell_type": "code",
   "execution_count": 14,
   "id": "5e76172e",
   "metadata": {},
   "outputs": [],
   "source": [
    "for i in images_tag:\n",
    "    images_url = i['src']\n",
    "    image_data = requests.get(images_url).content\n",
    "    with open(os.path.join(save_dir , f\"{query}_{images_tag.index(i)}.jpg\"), \"wb\") as f :\n",
    "        f.write(image_data)\n",
    "    "
   ]
  },
  {
   "cell_type": "code",
   "execution_count": null,
   "id": "413d85a2",
   "metadata": {},
   "outputs": [],
   "source": []
  },
  {
   "cell_type": "code",
   "execution_count": null,
   "id": "acd0714f",
   "metadata": {},
   "outputs": [],
   "source": []
  }
 ],
 "metadata": {
  "kernelspec": {
   "display_name": "Python 3 (ipykernel)",
   "language": "python",
   "name": "python3"
  },
  "language_info": {
   "codemirror_mode": {
    "name": "ipython",
    "version": 3
   },
   "file_extension": ".py",
   "mimetype": "text/x-python",
   "name": "python",
   "nbconvert_exporter": "python",
   "pygments_lexer": "ipython3",
   "version": "3.9.7"
  }
 },
 "nbformat": 4,
 "nbformat_minor": 5
}
